{
  "cells": [
    {
      "cell_type": "markdown",
      "metadata": {
        "id": "view-in-github",
        "colab_type": "text"
      },
      "source": [
        "<a href=\"https://colab.research.google.com/github/EliseMalvaoCarlson/Challenge2_Alura_Data_Science_TeleconX_Parte2/blob/main/TelecomX_BR_parte2.ipynb\" target=\"_parent\"><img src=\"https://colab.research.google.com/assets/colab-badge.svg\" alt=\"Open In Colab\"/></a>"
      ]
    },
    {
      "cell_type": "markdown",
      "metadata": {
        "id": "3RgyMaan04TD"
      },
      "source": [
        "\n",
        "\n",
        "# Challenge - Telecom X - parte 2"
      ]
    },
    {
      "cell_type": "markdown",
      "metadata": {
        "id": "WVkDaWjZQfbx"
      },
      "source": [
        "# 🛠️ 1 - Preparação dos Dados"
      ]
    },
    {
      "cell_type": "markdown",
      "metadata": {
        "id": "_QmfgtmZQfby"
      },
      "source": [
        "## 1.1 - Extração do Arquivo Tratado"
      ]
    },
    {
      "cell_type": "code",
      "execution_count": null,
      "metadata": {
        "id": "f7hNoogLQfbz"
      },
      "outputs": [],
      "source": [
        "import pandas as pd\n",
        "import matplotlib.pyplot as plt\n",
        "import seaborn as sns"
      ]
    },
    {
      "cell_type": "code",
      "source": [
        "dados = pd.read_csv(\"https://raw.githubusercontent.com/EliseMalvaoCarlson/Challeng_TelecomX_parte2_BR/refs/heads/main/dados_tratados.csv\")\n"
      ],
      "metadata": {
        "id": "VT-BvpX2E-C_"
      },
      "execution_count": null,
      "outputs": []
    },
    {
      "cell_type": "code",
      "execution_count": null,
      "metadata": {
        "id": "OqrYIXq6Qfb0"
      },
      "outputs": [],
      "source": [
        "dados.head()"
      ]
    },
    {
      "cell_type": "markdown",
      "metadata": {
        "id": "IJjqvgYSQfb1"
      },
      "source": [
        "## 1.2 - Remoção de Colunas Irrelevantes\n",
        "\n",
        "A base de dados importada já estava sem a coluna customerID"
      ]
    },
    {
      "cell_type": "markdown",
      "metadata": {
        "id": "2MKwsNgrQfb1"
      },
      "source": [
        "## 1.3 - Encoding"
      ]
    },
    {
      "cell_type": "markdown",
      "source": [
        "# O que é Encoding?\n",
        "\n",
        "No processamento de dados para machine learning, encoding é o processo de transformar variáveis categóricas (como “gênero” ou “tipo de contrato”) em valores numéricos que os algoritmos conseguem entender. Modelos como Random Forest ou Regressão Logística não conseguem trabalhar diretamente com texto — eles precisam de números."
      ],
      "metadata": {
        "id": "8TNSddBpYwqZ"
      }
    },
    {
      "cell_type": "markdown",
      "metadata": {
        "id": "LepkVKkyQfb2"
      },
      "source": [
        "### 1.3.1 - Identificar as colunas categóricas"
      ]
    },
    {
      "cell_type": "code",
      "execution_count": null,
      "metadata": {
        "id": "L5cPMB93Qfb2"
      },
      "outputs": [],
      "source": [
        "colunas_categoricas = ['gender', 'Partner', 'Dependents', 'PhoneService',\n",
        "                       'MultipleLines', 'InternetService', 'OnlineSecurity',\n",
        "                       'OnlineBackup', 'DeviceProtection', 'TechSupport',\n",
        "                       'StreamingTV', 'StreamingMovies', 'Contract',\n",
        "                       'PaperlessBilling', 'PaymentMethod']"
      ]
    },
    {
      "cell_type": "markdown",
      "metadata": {
        "id": "jleFFm-5Qfb3"
      },
      "source": [
        "### 1.3.2 - Aplicar get_dummies()"
      ]
    },
    {
      "cell_type": "markdown",
      "source": [
        "**O que é get_dummies()?**\n",
        "\n",
        "A função get_dummies() do pandas é usada para codificar variáveis categóricas em formato numérico. Isso é essencial para que algoritmos de machine learning possam processar essas informações"
      ],
      "metadata": {
        "id": "PGotOysaZnik"
      }
    },
    {
      "cell_type": "code",
      "execution_count": null,
      "metadata": {
        "id": "AydsmehAQfb3"
      },
      "outputs": [],
      "source": [
        "# Codifica variáveis categóricas (drop_first=True para evitar multicolinearidade)\n",
        "dados_encoded = pd.get_dummies(dados, columns=colunas_categoricas, drop_first=True)"
      ]
    },
    {
      "cell_type": "markdown",
      "metadata": {
        "id": "7P04ntwNQfb3"
      },
      "source": [
        "### 1.3.3 - Verificação da Proporção de Evasão"
      ]
    },
    {
      "cell_type": "code",
      "execution_count": null,
      "metadata": {
        "id": "6upXR-CnQfb3"
      },
      "outputs": [],
      "source": [
        "# Proporção de churn\n",
        "y = dados['Churn']\n",
        "proporcao_churn = y.value_counts(normalize=True).round(2) * 100\n",
        "\n",
        "# Impressão no console\n",
        "print(\"Proporção de clientes:\")\n",
        "print(f\"Ativos (Churn = 0): {proporcao_churn[0]}%\")\n",
        "print(f\"Evadidos (Churn = 1): {proporcao_churn[1]}%\")\n",
        "\n",
        "# Visualização aprimorada\n",
        "plt.figure(figsize=(6, 4))\n",
        "cores = ['blue', '#F44336']  # verde e vermelho mais suaves\n",
        "proporcao_churn.plot(kind='bar', color=cores)\n",
        "\n",
        "# Rótulos e título\n",
        "plt.xticks(ticks=[0, 1], labels=['Ativos', 'Evadidos'], rotation=0)\n",
        "plt.title('Distribuição das Classes (Churn)', fontsize=14)\n",
        "plt.ylabel('% de Clientes', fontsize=12)\n",
        "plt.ylim(0, 100)\n",
        "plt.grid(axis='y', linestyle='--', alpha=0.5)\n",
        "\n",
        "# Adiciona os valores nas barras\n",
        "for i, valor in enumerate(proporcao_churn):\n",
        "    plt.text(i, valor + 2, f'{valor:.1f}%', ha='center', fontsize=12)\n",
        "\n",
        "plt.tight_layout()\n",
        "plt.show()\n"
      ]
    },
    {
      "cell_type": "markdown",
      "metadata": {
        "id": "y-Pt7r-NQfb4"
      },
      "source": [
        "### 1.3.4 - Balanceamento de Classes (opcional)\n",
        "\n",
        "Seria necessário se a proporção de churn for muito baixa, algo como Ativos (Churn = 0): 90% / Evadidos (Churn = 1): 10%, mas como obtivemos valores mais altos, não será necessário."
      ]
    },
    {
      "cell_type": "markdown",
      "metadata": {
        "id": "worvkvkPQfb4"
      },
      "source": [
        "### 1.3.5 - Normalização ou Padronização (se necessário)\n",
        "\n",
        "Vamos pular essa etapa porque vamos usar Random Forest agora."
      ]
    },
    {
      "cell_type": "markdown",
      "metadata": {
        "id": "im49q9HrQfb4"
      },
      "source": [
        "# 🎯 2 - Correlação e Seleção de Variáveis"
      ]
    },
    {
      "cell_type": "markdown",
      "metadata": {
        "id": "2mRuUoFJQfb5"
      },
      "source": [
        "## 2.1 - Análise de Correlação - Matriz de Correlação entre variáveis numéricas"
      ]
    },
    {
      "cell_type": "code",
      "execution_count": null,
      "metadata": {
        "id": "8NICVj4NQfb5"
      },
      "outputs": [],
      "source": [
        "corr = dados_encoded.corr().round(4)"
      ]
    },
    {
      "cell_type": "markdown",
      "source": [
        "**O que é .corr()?**\n",
        "\n",
        "A função .corr() calcula a matriz de correlação entre todas as variáveis numéricas do DataFrame dados_encoded. A correlação mede o grau de associação entre duas variáveis, com valores que variam de:\n",
        "\n",
        "+1: correlação positiva perfeita\n",
        "\n",
        "0: nenhuma correlação\n",
        "\n",
        "–1: correlação negativa perfeita\n",
        "\n",
        "**E o .round(4)?**\n",
        "\n",
        "Esse método arredonda os valores da matriz de correlação para quatro casas decimais, facilitando a leitura e a visualização dos resultados.\n",
        "\n",
        "**Resultado: corr**\n",
        "\n",
        "O objeto corr gerado é uma tabela quadrada onde cada célula representa a correlação entre duas variáveis. Por exemplo:\n",
        "\n",
        "corr['Churn']['tenure'] mostra a correlação entre tempo de contrato e evasão.\n",
        "\n",
        "corr['Churn']['Contract_Two year'] mostra a correlação entre contratos bienais e churn.\n",
        "\n"
      ],
      "metadata": {
        "id": "uUGSeiuKaqzH"
      }
    },
    {
      "cell_type": "code",
      "execution_count": null,
      "metadata": {
        "id": "yaJWgb55Qfb5"
      },
      "outputs": [],
      "source": [
        "corr['Churn'].sort_values(ascending=False)"
      ]
    },
    {
      "cell_type": "code",
      "execution_count": null,
      "metadata": {
        "id": "p8zQYAiuQfb6"
      },
      "outputs": [],
      "source": [
        "# 1. Correlações com 'Churn'\n",
        "corr_churn = corr['Churn'].drop('Churn')\n",
        "\n",
        "# 2. Ordenar por correlação absoluta\n",
        "correlacoes_ordenadas = corr_churn.reindex(\n",
        "    corr_churn.abs().sort_values(ascending=False).index\n",
        ")\n",
        "\n",
        "# 3. Obter o limite da 10ª maior correlação (com empates)\n",
        "top_n = 10\n",
        "limite = correlacoes_ordenadas.abs().unique()[top_n - 1]\n",
        "variaveis_relevantes = correlacoes_ordenadas[correlacoes_ordenadas.abs() >= limite].index.tolist()\n",
        "\n",
        "# 4. Incluir 'Churn' na lista\n",
        "variaveis_plot = ['Churn'] + variaveis_relevantes\n",
        "\n",
        "# 5. Criar submatriz de correlação\n",
        "submatriz_corr = corr.loc[variaveis_plot, variaveis_plot]\n",
        "\n",
        "# 6. Plotar heatmap\n",
        "import matplotlib.pyplot as plt\n",
        "import seaborn as sns\n",
        "\n",
        "plt.figure(figsize=(10, 8))\n",
        "sns.heatmap(\n",
        "    submatriz_corr,\n",
        "    annot=True,\n",
        "    fmt='.2f',\n",
        "    cmap='coolwarm',\n",
        "    vmin=-1, vmax=1,\n",
        "    linewidths=0.5,\n",
        "    linecolor='gray',\n",
        "    cbar_kws={\"shrink\": 0.8}\n",
        ")\n",
        "plt.title('Submatriz das Maiores Correlações com Churn', fontsize=14)\n",
        "plt.xticks(rotation=45, ha='right')\n",
        "plt.tight_layout()\n",
        "plt.show()"
      ]
    },
    {
      "cell_type": "markdown",
      "metadata": {
        "id": "ZmPmWmcsQfb6"
      },
      "source": [
        "## 2.2 - Análises Direcionadas"
      ]
    },
    {
      "cell_type": "markdown",
      "metadata": {
        "id": "36CMSU4aQfb7"
      },
      "source": [
        "### 2.2.1 - Tempo de contrato × Evasão"
      ]
    },
    {
      "cell_type": "code",
      "source": [
        "# Convert 'Churn' to categorical for plotting\n",
        "dados['Churn'] = dados['Churn'].astype('category')\n",
        "\n",
        "plt.figure(figsize=(8, 5))  # Tamanho do gráfico\n",
        "sns.boxplot(x='Churn', y='tenure', data=dados, hue='Churn', palette={0.0: '#4CAF50', 1.0: '#F44336'}, legend=False)  # Cores personalizadas\n",
        "plt.title('Tempo de Contrato x Churn', fontsize=14, fontweight='bold')\n",
        "plt.xlabel('Churn (0 = Não, 1 = Sim)', fontsize=12)\n",
        "plt.ylabel('Meses de Contrato', fontsize=12)\n",
        "# Adjust xticks to match categorical values\n",
        "plt.xticks(ticks=[0, 1], labels=['Não Evadiu', 'Evadiu'], fontsize=11)\n",
        "plt.yticks(fontsize=10)\n",
        "plt.grid(axis='y', linestyle='--', alpha=0.3)\n",
        "plt.tight_layout()\n",
        "plt.show()"
      ],
      "metadata": {
        "id": "leSDJlovGlnk"
      },
      "execution_count": null,
      "outputs": []
    },
    {
      "cell_type": "markdown",
      "metadata": {
        "id": "ZXLuYTn4Qfb7"
      },
      "source": [
        "### 2.2.2 - Total Gasto × Evasão"
      ]
    },
    {
      "cell_type": "code",
      "execution_count": null,
      "metadata": {
        "id": "J5V2FK0dQfb8"
      },
      "outputs": [],
      "source": [
        "sns.boxplot(x='Churn', y='Charges.Total', data=dados)\n",
        "plt.title('Total Gasto x Churn')\n",
        "plt.xlabel('Churn (0 = Não, 1 = Sim)')\n",
        "plt.ylabel('Valor Total Gasto')\n",
        "plt.show()"
      ]
    },
    {
      "cell_type": "markdown",
      "metadata": {
        "id": "9Caa_rzRQfb8"
      },
      "source": [
        "# 🤖 3 - Modelagem Preditiva"
      ]
    },
    {
      "cell_type": "markdown",
      "metadata": {
        "id": "7L08NLUgQfb8"
      },
      "source": [
        "## 3.1 - Separação de dados"
      ]
    },
    {
      "cell_type": "code",
      "execution_count": null,
      "metadata": {
        "id": "pJz6S2B0Qfb8"
      },
      "outputs": [],
      "source": [
        "from sklearn.model_selection import train_test_split\n",
        "\n",
        "X = dados_encoded.drop(columns=['Churn'])  # já está sem customerID\n",
        "y = dados_encoded['Churn']\n",
        "\n",
        "X_train, X_test, y_train, y_test = train_test_split(\n",
        "    X, y, test_size=0.3, random_state=42, stratify=y\n",
        ")"
      ]
    },
    {
      "cell_type": "markdown",
      "metadata": {
        "id": "ug7mrJ0EQfb9"
      },
      "source": [
        "## 3.2 - Criação de modelos"
      ]
    },
    {
      "cell_type": "markdown",
      "metadata": {
        "id": "YHYqiuGKQfb9"
      },
      "source": [
        "### 3.2.1 - Treinamento com Random Forest\n",
        "\n",
        "**O que é Random Forest?**\n",
        "\n",
        "Random Forest é um algoritmo de aprendizado supervisionado baseado em árvores de decisão. Ele cria várias árvores (daí o “forest”) e combina suas previsões para melhorar a precisão e reduzir o risco de overfitting.\n",
        "\n",
        "**O que acontece após o treinamento?**\n",
        "\n",
        "O modelo aprende padrões nos dados para prever a variável alvo (Churn). Ele será testado depois com dados novos (X_test) para verificar se consegue generalizar bem."
      ]
    },
    {
      "cell_type": "code",
      "execution_count": null,
      "metadata": {
        "id": "iaUwBUBJQfb9"
      },
      "outputs": [],
      "source": [
        "from sklearn.ensemble import RandomForestClassifier\n",
        "\n",
        "modelo_rf = RandomForestClassifier(random_state=42)\n",
        "modelo_rf.fit(X_train, y_train)"
      ]
    },
    {
      "cell_type": "markdown",
      "metadata": {
        "id": "lOI1gbuhQfb9"
      },
      "source": [
        "### 3.2.2 - Treinamento com Regressão Logística - etapa 1: Separar variáveis numéricas para normalizar apenas onde necessário\n",
        "\n",
        "**A Regressão Logística é um modelo estatístico usado para prever variáveis**\n",
        "binárias, como o churn (evasão de clientes), que pode ser 0 (permaneceu) ou 1 (evadiu). Ela estima a probabilidade de um evento ocorrer com base nas variáveis explicativas.\n",
        "\n",
        "**Etapa 1: Normalização dos dados**"
      ]
    },
    {
      "cell_type": "code",
      "execution_count": null,
      "metadata": {
        "id": "mz0EHnP1Qfb-"
      },
      "outputs": [],
      "source": [
        "from sklearn.preprocessing import StandardScaler\n",
        "\n",
        "# Identificar colunas numéricas\n",
        "numericas = X.select_dtypes(include=['float64', 'int64']).columns.tolist()\n",
        "\n",
        "# Normalizar os dados para regressão logística\n",
        "scaler = StandardScaler()\n",
        "X_norm = X.copy()\n",
        "X_norm[numericas] = scaler.fit_transform(X_norm[numericas])\n",
        "\n",
        "# Dividir treino/teste com os dados normalizados\n",
        "Xn_train, Xn_test, yn_train, yn_test = train_test_split(\n",
        "    X_norm, y, test_size=0.3, random_state=42, stratify=y # proporção de 70% para treino e 30% para teste\n",
        ")"
      ]
    },
    {
      "cell_type": "markdown",
      "metadata": {
        "id": "T-8BnzbcQfb-"
      },
      "source": [
        "### 3.2.2 - Treinamento com Regressão Logística - etapa 2: Treinar Regressão Logística com dados normalizados\n",
        "\n",
        "**Os dados normalizados foram divididos em treino e teste:**\n",
        "\n"
      ]
    },
    {
      "cell_type": "code",
      "execution_count": null,
      "metadata": {
        "id": "04jGSKx8Qfb-"
      },
      "outputs": [],
      "source": [
        "from sklearn.linear_model import LogisticRegression\n",
        "\n",
        "modelo_log = LogisticRegression(max_iter=1000, random_state=42)\n",
        "modelo_log.fit(Xn_train, yn_train)"
      ]
    },
    {
      "cell_type": "markdown",
      "metadata": {
        "id": "0ncKm6tHQfb_"
      },
      "source": [
        "### 3.2.3 - Justificativa de escolha dos modelos para análise"
      ]
    },
    {
      "cell_type": "markdown",
      "metadata": {
        "id": "JgrCifQrQfb_"
      },
      "source": [
        "###  Random Forest\n",
        "\n",
        "O modelo **Random Forest** foi adotado como uma abordagem baseada em árvores de decisão. Por sua natureza, ele é robusto a variáveis com diferentes escalas e tipos, o que elimina a necessidade de normalização dos dados. Essa característica foi considerada na etapa de pré-processamento, onde a padronização foi propositalmente omitida. Apesar de sua alta capacidade de aprendizado, o modelo apresentou sinais de **overfitting**, com desempenho quase perfeito no treino e queda significativa no teste, o que compromete sua capacidade de generalização.\n",
        "\n",
        "---\n",
        "\n",
        "###  Regressão Logística\n",
        "\n",
        "A **Regressão Logística** foi escolhida como modelo linear base para prever a evasão de clientes. Por ser sensível à escala das variáveis, foi aplicada a **normalização com StandardScaler** nas colunas numéricas antes do treinamento. Essa escolha se justifica por ser um dos algoritmos mais utilizados em problemas de classificação binária, como o de churn. Além de ser simples e eficiente, ela fornece **coeficientes interpretáveis**, permitindo entender o impacto de cada variável na probabilidade de evasão.\n",
        "\n",
        "Embora o modelo ainda não tenha sido explorado em profundidade no curso, sua configuração foi feita com base em **referências confiáveis e suporte técnico**, garantindo que os ajustes necessários — como normalização e balanceamento — fossem corretamente aplicados.\n",
        "\n",
        "---\n",
        "\n",
        "###  Comparação entre os modelos\n",
        "\n",
        "A comparação entre Random Forest e Regressão Logística permitiu avaliar o desempenho entre técnicas **não-lineares** e **lineares** no contexto da previsão de churn. A Regressão Logística demonstrou maior consistência entre treino e teste, melhor recall e F1-score, além de ser mais confiável para aplicação prática. Já o Random Forest, apesar de sua alta acurácia no treino, mostrou dificuldade de generalização, reforçando a importância de ajustes como o GridSearchCV.\n",
        "\n"
      ]
    },
    {
      "cell_type": "markdown",
      "source": [],
      "metadata": {
        "id": "IVTuT7ZfeQWx"
      }
    },
    {
      "cell_type": "markdown",
      "metadata": {
        "id": "c1caHkZhQfb_"
      },
      "source": [
        "## 3.3 - Avaliação dos Modelos"
      ]
    },
    {
      "cell_type": "markdown",
      "metadata": {
        "id": "7fQsT5JsQfcS"
      },
      "source": [
        "### 3.3.1 - Métricas: acurácia, precisão, recall e F1-score.\n",
        "\n",
        "O que são essas métricas?\n",
        "\n",
        "Essas quatro métricas são usadas para **avaliar o desempenho de modelos de classificação**, especialmente em problemas binários como o churn (evasão de clientes):\n",
        "\n",
        "| Métrica       | Definição                                                                 | Interpretação prática no notebook |\n",
        "|---------------|---------------------------------------------------------------------------|-----------------------------------|\n",
        "| **Acurácia**  | Proporção de previsões corretas sobre o total de casos                    | Mede o desempenho geral do modelo |\n",
        "| **Precisão**  | Proporção de casos previstos como positivos que realmente são positivos   | Indica se o modelo evita falsos positivos |\n",
        "| **Recall**    | Proporção de casos positivos que foram corretamente identificados         | Mede a capacidade de detectar clientes que realmente evadiram |\n",
        "| **F1-score**  | Média harmônica entre precisão e recall                                   | Equilíbrio entre acertos e cobertura |\n",
        "\n",
        "---\n",
        "\n",
        "### Como foram aplicadas no notebook?\n",
        "\n",
        "O notebook calculou essas métricas para os dois modelos — **Random Forest** e **Regressão Logística** — tanto no conjunto de **treino** quanto no de **teste**:\n",
        "\n",
        "```python\n",
        "from sklearn.metrics import accuracy_score, precision_score, recall_score, f1_score\n",
        "```\n",
        "\n",
        "As previsões foram feitas com `.predict()` e os resultados foram organizados em um `DataFrame` chamado `df_metricas`, arredondado para três casas decimais.\n",
        "\n",
        "---\n",
        "\n",
        "###  Resultados observados\n",
        "\n",
        "####  Random Forest\n",
        "- **Treino**: Acurácia de 0.998, Recall de 0.995 → quase perfeito (indício de overfitting)\n",
        "- **Teste**: Acurácia de 0.784, Recall de 0.494 → caiu bastante, errou mais da metade dos churns\n",
        "\n",
        "####  Regressão Logística\n",
        "- **Treino**: Acurácia de 0.811, Recall de 0.563 → desempenho mais realista\n",
        "- **Teste**: Acurácia de 0.798, Recall de 0.545 → melhor equilíbrio e generalização\n",
        "\n",
        "---\n",
        "\n",
        "###  Conclusão\n",
        "\n",
        "Essas métricas permitiram comparar os modelos de forma objetiva. O **Random Forest** teve alta acurácia no treino, mas baixo recall no teste, indicando overfitting. Já a **Regressão Logística** mostrou desempenho mais consistente e maior capacidade de identificar clientes que realmente evadiram — o que é essencial para o objetivo do projeto.\n"
      ]
    },
    {
      "cell_type": "code",
      "execution_count": null,
      "metadata": {
        "id": "26yZS7x8QfcS"
      },
      "outputs": [],
      "source": [
        "from sklearn.metrics import (\n",
        "    accuracy_score, precision_score, recall_score, f1_score\n",
        ")\n",
        "import pandas as pd\n",
        "\n",
        "# Previsões dos dois modelos - TESTE\n",
        "y_pred_rf = modelo_rf.predict(X_test)\n",
        "y_pred_log = modelo_log.predict(Xn_test)\n",
        "\n",
        "# Previsões dos dois modelos - TREINO\n",
        "y_pred_rf_train = modelo_rf.predict(X_train)\n",
        "y_pred_log_train = modelo_log.predict(Xn_train)\n",
        "\n",
        "# Dicionários com as métricas principais - TESTE\n",
        "metricas_rf_test = {\n",
        "    'Modelo': 'Random Forest - Teste',\n",
        "    'Acurácia': accuracy_score(y_test, y_pred_rf),\n",
        "    'Precisão': precision_score(y_test, y_pred_rf),\n",
        "    'Recall': recall_score(y_test, y_pred_rf),\n",
        "    'F1-Score': f1_score(y_test, y_pred_rf)\n",
        "}\n",
        "\n",
        "metricas_log_test = {\n",
        "    'Modelo': 'Regressão Logística - Teste',\n",
        "    'Acurácia': accuracy_score(yn_test, y_pred_log),\n",
        "    'Precisão': precision_score(yn_test, y_pred_log),\n",
        "    'Recall': recall_score(yn_test, y_pred_log),\n",
        "    'F1-Score': f1_score(yn_test, y_pred_log)\n",
        "}\n",
        "\n",
        "\n",
        "# Dicionários com as métricas principais - TREINO\n",
        "metricas_rf_train = {\n",
        "    'Modelo': 'Random Forest - Treino',\n",
        "    'Acurácia': accuracy_score(y_train, y_pred_rf_train),\n",
        "    'Precisão': precision_score(y_train, y_pred_rf_train),\n",
        "    'Recall': recall_score(y_train, y_pred_rf_train),\n",
        "    'F1-Score': f1_score(y_train, y_pred_rf_train)\n",
        "}\n",
        "\n",
        "metricas_log_train = {\n",
        "    'Modelo': 'Regressão Logística - Treino',\n",
        "    'Acurácia': accuracy_score(yn_train, y_pred_log_train),\n",
        "    'Precisão': precision_score(yn_train, y_pred_log_train),\n",
        "    'Recall': recall_score(yn_train, y_pred_log_train),\n",
        "    'F1-Score': f1_score(yn_train, y_pred_log_train)\n",
        "}\n",
        "\n",
        "# Criar DataFrame com os dois modelos\n",
        "df_metricas = pd.DataFrame([metricas_rf_test, metricas_log_test, metricas_rf_train, metricas_log_train])\n",
        "df_metricas.set_index('Modelo', inplace=True)\n",
        "df_metricas = df_metricas.round(3)\n",
        "\n",
        "# Mostrar as métricas em tabela\n",
        "print(\"\\n📊 Comparativo das Métricas Principais:\")\n",
        "df_metricas\n"
      ]
    },
    {
      "cell_type": "markdown",
      "metadata": {
        "id": "kwZIWJDTQfcT"
      },
      "source": [
        "### 3.3.1 - Métrica: matriz de confusão"
      ]
    },
    {
      "cell_type": "code",
      "execution_count": null,
      "metadata": {
        "id": "5eIdKIHjQfcT"
      },
      "outputs": [],
      "source": [
        "from sklearn.metrics import confusion_matrix\n",
        "import pandas as pd\n",
        "\n",
        "# --- Previsões para o conjunto de TESTE ---\n",
        "y_pred_rf_test = modelo_rf.predict(X_test)\n",
        "y_pred_log_test = modelo_log.predict(Xn_test)\n",
        "\n",
        "# --- Previsões para o conjunto de TREINO ---\n",
        "y_pred_rf_train = modelo_rf.predict(X_train)\n",
        "y_pred_log_train = modelo_log.predict(Xn_train)\n",
        "\n",
        "print(\"--- MATRIZES DE CONFUSÃO ---\")\n",
        "\n",
        "# --- Matriz Random Forest - TESTE ---\n",
        "print(\"\\n📊 Matriz de Confusão - Random Forest (Teste)\")\n",
        "print(pd.DataFrame(confusion_matrix(y_test, y_pred_rf_test),\n",
        "                   index=['Atual: Permaneceu', 'Atual: Evadiu'],\n",
        "                   columns=['Previsto: Permaneceu', 'Previsto: Evadiu']))\n",
        "\n",
        "# --- Matriz Random Forest - TREINO ---\n",
        "print(\"\\n📊 Matriz de Confusão - Random Forest (Treino)\")\n",
        "print(pd.DataFrame(confusion_matrix(y_train, y_pred_rf_train),\n",
        "                   index=['Atual: Permaneceu', 'Atual: Evadiu'],\n",
        "                   columns=['Previsto: Permaneceu', 'Previsto: Evadiu']))\n",
        "\n",
        "print(\"\\n\" + \"=\" * 60 + \"\\n\")  # Divisor maior entre modelos\n",
        "\n",
        "# --- Matriz Regressão Logística - TESTE ---\n",
        "print(\"📊 Matriz de Confusão - Regressão Logística (Teste)\")\n",
        "print(pd.DataFrame(confusion_matrix(yn_test, y_pred_log_test),\n",
        "                   index=['Atual: Permaneceu', 'Atual: Evadiu'],\n",
        "                   columns=['Previsto: Permaneceu', 'Previsto: Evadiu']))\n",
        "\n",
        "# --- Matriz Regressão Logística - TREINO ---\n",
        "print(\"\\n📊 Matriz de Confusão - Regressão Logística (Treino)\")\n",
        "print(pd.DataFrame(confusion_matrix(yn_train, y_pred_log_train),\n",
        "                   index=['Atual: Permaneceu', 'Atual: Evadiu'],\n",
        "                   columns=['Previsto: Permaneceu', 'Previsto: Evadiu']))\n"
      ]
    },
    {
      "cell_type": "markdown",
      "metadata": {
        "id": "q05aMf6zQfcU"
      },
      "source": [
        "### 3.3.2 - Análise crítica"
      ]
    },
    {
      "cell_type": "markdown",
      "metadata": {
        "id": "omt_-qwXQfcU"
      },
      "source": [
        "## ✅ **Resumo geral das métricas**\n",
        "\n",
        "| Modelo                      | Acurácia | Precisão | Recall | F1-Score |\n",
        "| --------------------------- | -------- | -------- | ------ | -------- |\n",
        "| **Random Forest - Treino**  | 0.998    | 0.996    | 0.995  | 0.996    |\n",
        "| **Random Forest - Teste**   | 0.784    | 0.617    | 0.494  | 0.549    |\n",
        "| **Reg. Logística - Treino** | 0.811    | 0.671    | 0.563  | 0.613    |\n",
        "| **Reg. Logística - Teste**  | 0.798    | 0.640    | 0.545  | 0.589    |\n",
        "\n",
        "---\n",
        "\n",
        "## 🔍 **Análise detalhada por modelo**\n",
        "\n",
        "### 🌲 **Random Forest**\n",
        "\n",
        "#### 🟩 Ponto positivo:\n",
        "\n",
        "* Acertou 1380 dos 1552 clientes que permaneceram.\n",
        "* Boa precisão no teste (0.617), ou seja, quando prevê churn, costuma acertar.\n",
        "\n",
        "#### 🟥 Ponto preocupante:\n",
        "\n",
        "* **Desempenho em treino altíssimo (quase 100%)** e queda forte no teste.\n",
        "* Recall no teste é baixo (0.494), ou seja, **erra mais de 50% dos clientes que evadiram**.\n",
        "* Matriz de confusão do treino mostra apenas **11 erros em mais de 5000 registros** — isso é um **sinal claro de overfitting**.\n",
        "\n",
        "#### 📉 Conclusão:\n",
        "\n",
        "> **Random Forest memorizou os dados de treino** e teve dificuldade de generalizar no conjunto de teste. Apesar de sua alta performance no treino, seu desempenho real é limitado.\n",
        "\n",
        "---\n",
        "\n",
        "### 📈 **Regressão Logística**\n",
        "\n",
        "#### 🟩 Ponto forte:\n",
        "\n",
        "* Manteve **boa consistência entre treino e teste** — ou seja, generaliza melhor.\n",
        "* No teste:\n",
        "\n",
        "  * **Maior recall (0.545)** → identificou mais clientes que realmente evadiram\n",
        "  * **Melhor F1-score (0.589)** → equilíbrio mais robusto entre precisão e recall\n",
        "\n",
        "#### 🟨 Considerações:\n",
        "\n",
        "* No treino, teve desempenho inferior ao Random Forest, mas **sem exagero**.\n",
        "* Apresentou 737 acertos de churn e 571 falsos negativos (matriz de confusão treino), o que é **realista para modelos simples e interpretáveis**.\n",
        "\n",
        "#### 📉 Conclusão:\n",
        "\n",
        "> Embora menos potente que Random Forest, a Regressão Logística mostra **desempenho estável, interpretável e mais confiável para aplicação prática.**\n",
        "\n",
        "---\n",
        "\n",
        "## 🧠 **Análise comparativa (crítica)**\n",
        "\n",
        "| Critério                  | Random Forest        | Regressão Logística | Melhor modelo |\n",
        "| ------------------------- | -------------------- | ------------------- | ------------- |\n",
        "| Acurácia no teste         | 0.784                | **0.798**           | 🔹 Logística  |\n",
        "| Recall (teste - churn)    | 0.494                | **0.545**           | 🔹 Logística  |\n",
        "| F1-Score (teste)          | 0.549                | **0.589**           | 🔹 Logística  |\n",
        "| Consistência treino/teste | ❌ (muito gap)        | ✅ (coerente)        | 🔹 Logística  |\n",
        "| Overfitting detectado?    | ✅ Sim                | ❌ Não               | 🔹 Logística  |\n",
        "| Facilidade de explicação  | Média (importâncias) | Alta (coeficientes) | 🔹 Logística  |\n"
      ]
    },
    {
      "cell_type": "markdown",
      "metadata": {
        "id": "s3QogW9YQfcU"
      },
      "source": [
        "### 3.3.3 - Justificativa da escolha do modelo"
      ]
    },
    {
      "cell_type": "markdown",
      "metadata": {
        "id": "gkK_T2MeQfcV"
      },
      "source": [
        "Com base nas métricas de desempenho obtidas até esta etapa, o modelo de **Regressão Logística** apresentou resultados superiores ao Random Forest em todos os principais indicadores: acurácia, precisão, recall e F1-score. Destaca-se, sobretudo, o **maior recall**, essencial para a identificação de clientes com risco real de evasão — objetivo central deste projeto.\n",
        "\n",
        "O modelo **Random Forest**, por sua vez, apesar de apresentar boa performance em teste, demonstrou sinais evidentes de **overfitting**, com desempenho quase perfeito no conjunto de treino. Esse comportamento sugere baixa capacidade de generalização para novos dados.\n",
        "\n",
        "**Assim, até o momento, a Regressçao Logística é a opção mais adequada dentre os modelos treinados inicialmente.**\n",
        "\n",
        "Entretanto, essa análise crítica abre espaço para possíveis melhorias. Em uma próxima etapa, será conduzido um **aprofundamento técnico com refinamento dos modelos, visando corrigir distorções como overfitting e melhorar a sensibilidade na detecção de churn.**\n",
        "\n",
        "Esse processo permitirá validar se a escolha atual permanece como a mais indicada ou se outro modelo, após ajustes, poderá apresentar desempenho mais robusto."
      ]
    },
    {
      "cell_type": "markdown",
      "metadata": {
        "id": "nf6YgSTbQfcV"
      },
      "source": [
        "### 3.3.4 - Overfitting ou Underfitting"
      ]
    },
    {
      "cell_type": "markdown",
      "metadata": {
        "id": "_EnJaeSrQfcV"
      },
      "source": [
        "### 🔍 Random Forest\n",
        "\n",
        "**Conclusão:**\n",
        "> Forte indício de **Overfitting**.  \n",
        "O modelo Random Forest performou quase perfeitamente nos dados de treino, mas teve **queda significativa** no teste. Isso indica que o modelo possivelmente **\"memorizou\" os dados de treino**, comprometendo a **generalização**.\n",
        "\n",
        "---\n",
        "\n",
        "### 🔍 Regressão Logística\n",
        "\n",
        "**Conclusão:**\n",
        "> A diferença entre treino e teste é **muito menor**, o que indica **boa generalização**.  \n",
        "A Regressão Logística **não sofre de overfitting severo**.  \n",
        "Entretanto, o **recall moderado** sugere que o modelo ainda **perde quase metade dos clientes que realmente evadem**. Isso pode indicar um possível **underfitting da classe minoritária**, sem ser um underfitting generalizado.\n",
        "\n",
        "---\n",
        "\n",
        "## 📌 Resumo Geral\n",
        "\n",
        "- **Random Forest**: Apresentou **overfitting** — o modelo está excessivamente ajustado aos dados de treino.\n",
        "- **Regressão Logística**: Apresentou **consistência** entre treino e teste. Ainda que o recall seja moderado, **não há overfitting severo**. Pode haver uma **dificuldade em capturar a classe minoritária** (churn)."
      ]
    },
    {
      "cell_type": "markdown",
      "metadata": {
        "id": "8elJnedNQfcW"
      },
      "source": [
        "# 📋 4 - Interpretação e Conclusões"
      ]
    },
    {
      "cell_type": "markdown",
      "metadata": {
        "id": "hw7qHk4zQfcW"
      },
      "source": [
        "## 4.1 - Random Forest – Importância das Variáveis\n",
        "\n",
        "Objetivo: entender quais variáveis mais impactam a decisão do modelo."
      ]
    },
    {
      "cell_type": "code",
      "execution_count": null,
      "metadata": {
        "id": "LTFK1tuAQfcW"
      },
      "outputs": [],
      "source": [
        "importances = modelo_rf.feature_importances_\n",
        "variaveis = X.columns\n",
        "\n",
        "importancia_df = pd.DataFrame({\n",
        "    'Variável': variaveis,\n",
        "    'Importância': importances\n",
        "}).sort_values(by='Importância', ascending=False)\n",
        "\n",
        "# Visualizar as 10 variáveis mais importantes\n",
        "print(importancia_df.head(10))\n",
        "\n",
        "# Gráfico\n",
        "import matplotlib.pyplot as plt\n",
        "import seaborn as sns\n",
        "\n",
        "plt.figure(figsize=(9, 6))\n",
        "sns.barplot(x='Importância', y='Variável', data=importancia_df.head(10))\n",
        "plt.title('Top 10 Variáveis mais Importantes - Random Forest')\n",
        "plt.tight_layout()\n",
        "plt.show()"
      ]
    },
    {
      "cell_type": "markdown",
      "metadata": {
        "id": "S2L13-V9QfcW"
      },
      "source": [
        "## 4.2 - Regressão Logística – Coeficientes das Variáveis\n",
        "\n",
        "Objetivo: verificar a influência (positiva ou negativa) de cada variável na evasão.\n",
        "\n",
        "Interpretação dos coeficientes:\n",
        "\n",
        "- Coeficiente positivo: aumenta a chance de churn;\n",
        "\n",
        "- Coeficiente negativo: reduz a chance de churn."
      ]
    },
    {
      "cell_type": "code",
      "execution_count": null,
      "metadata": {
        "id": "ssKis6vDQfcX"
      },
      "outputs": [],
      "source": [
        "coeficientes = modelo_log.coef_[0]\n",
        "variaveis_log = Xn_train.columns\n",
        "\n",
        "coef_df = pd.DataFrame({\n",
        "    'Variável': variaveis_log,\n",
        "    'Coeficiente': coeficientes\n",
        "}).sort_values(by='Coeficiente', key=abs, ascending=False)\n",
        "\n",
        "# Exibir as variáveis com maior peso absoluto\n",
        "print(coef_df.head(10))\n",
        "\n",
        "# Gráfico\n",
        "plt.figure(figsize=(10, 6))\n",
        "sns.barplot(x='Coeficiente', y='Variável', data=coef_df.head(10))\n",
        "plt.title('Top 10 Coeficientes - Regressão Logística')\n",
        "plt.tight_layout()\n",
        "plt.show()"
      ]
    },
    {
      "cell_type": "markdown",
      "metadata": {
        "id": "M-37Eo1qQfcX"
      },
      "source": [
        "## 4.3 - Análise crítica dos modelos com refinamentos"
      ]
    },
    {
      "cell_type": "markdown",
      "metadata": {
        "id": "gABFad5wQfcY"
      },
      "source": [
        "### 4.3.1 - Revisão Crítica da Modelagem"
      ]
    },
    {
      "cell_type": "markdown",
      "metadata": {
        "id": "ZHrgq6tTQfcY"
      },
      "source": [
        "Com base na Etapa 3, foi possível identificar que o modelo de Random Forest apresentava sinais de overfitting e que a Regressão Logística, embora mais estável, ainda poderia melhorar o recall — métrica crítica em problemas de churn.\n",
        "\n",
        "Dessa forma, nesta etapa foram aplicadas técnicas de refinamento e ajustes para validar se melhorias nos modelos poderiam gerar ganhos expressivos, sem perder a capacidade de generalização.\n",
        "\n",
        "As técnicas aplicadas foram:\n",
        "\n",
        "- Ajuste de hiperparâmetros com `GridSearchCV` no Random Forest\n",
        "- Regressão Logística com `class_weight='balanced'`\n",
        "- Ajuste do threshold (limiar de classificação) na Regressão Logística"
      ]
    },
    {
      "cell_type": "markdown",
      "metadata": {
        "id": "Nobm_Kl4QfcY"
      },
      "source": [
        "### 4.3.2 - Aplicação das Melhorias Propostas"
      ]
    },
    {
      "cell_type": "markdown",
      "metadata": {
        "id": "NfURWN0iQfcY"
      },
      "source": [
        "#### 4.3.2.1 - Ajuste de Hiperparâmetros no Random Forest"
      ]
    },
    {
      "cell_type": "markdown",
      "metadata": {
        "id": "50koMpKNQfcZ"
      },
      "source": [
        "Para mitigar o overfitting observado no Random Forest, foi aplicado um ajuste de hiperparâmetros via GridSearchCV, otimizando a métrica de F1-score."
      ]
    },
    {
      "cell_type": "code",
      "execution_count": 46,
      "metadata": {
        "id": "CosJkcEpQfcZ",
        "colab": {
          "base_uri": "https://localhost:8080/"
        },
        "outputId": "9048f4b0-b1d4-4d35-dafb-ed3ec6ec6796"
      },
      "outputs": [
        {
          "output_type": "stream",
          "name": "stdout",
          "text": [
            "Fitting 5 folds for each of 48 candidates, totalling 240 fits\n",
            "=== Random Forest com Hiperparâmetros Otimizados ===\n",
            "              precision    recall  f1-score   support\n",
            "\n",
            "         0.0       0.84      0.89      0.86      1552\n",
            "         1.0       0.64      0.51      0.57       561\n",
            "\n",
            "    accuracy                           0.79      2113\n",
            "   macro avg       0.74      0.70      0.72      2113\n",
            "weighted avg       0.78      0.79      0.79      2113\n",
            "\n",
            "Matriz de Confusão:\n",
            "[[1387  165]\n",
            " [ 273  288]]\n"
          ]
        }
      ],
      "source": [
        "from sklearn.ensemble import RandomForestClassifier\n",
        "from sklearn.model_selection import GridSearchCV\n",
        "from sklearn.metrics import classification_report, confusion_matrix\n",
        "\n",
        "# Definir o grid de hiperparâmetros\n",
        "param_grid = {\n",
        "    'n_estimators': [100, 200],\n",
        "    'max_depth': [5, 10, None],\n",
        "    'min_samples_split': [2, 5],\n",
        "    'min_samples_leaf': [1, 2],\n",
        "    'max_features': ['sqrt', 'log2']\n",
        "}\n",
        "\n",
        "# Criar e treinar o GridSearchCV\n",
        "grid_rf = GridSearchCV(\n",
        "    estimator=RandomForestClassifier(random_state=42),\n",
        "    param_grid=param_grid,\n",
        "    cv=5,\n",
        "    n_jobs=-1,\n",
        "    scoring='f1',\n",
        "    verbose=1\n",
        ")\n",
        "\n",
        "# Treinar com os dados\n",
        "grid_rf.fit(X_train, y_train)\n",
        "\n",
        "# Obter o melhor modelo\n",
        "melhor_rf = grid_rf.best_estimator_\n",
        "\n",
        "# Prever no conjunto de teste\n",
        "y_pred_melhor_rf = melhor_rf.predict(X_test)\n",
        "\n",
        "# Exibir relatório e matriz de confusão\n",
        "print(\"=== Random Forest com Hiperparâmetros Otimizados ===\")\n",
        "print(classification_report(y_test, y_pred_melhor_rf))\n",
        "print(\"Matriz de Confusão:\")\n",
        "print(confusion_matrix(y_test, y_pred_melhor_rf))"
      ]
    },
    {
      "cell_type": "markdown",
      "metadata": {
        "id": "pWXorSzlQfcZ"
      },
      "source": [
        "#### 4.3.2.2 - Regr. Logística com class_weight='balanced'"
      ]
    },
    {
      "cell_type": "markdown",
      "metadata": {
        "id": "UMbeWuHWQfca"
      },
      "source": [
        "Considerando o custo de falsos negativos em churn, foi testado o uso de class_weight='balanced' na Regressão Logística. A estratégia prioriza o aprendizado da classe minoritária, mesmo com proporção moderada (26.5%)."
      ]
    },
    {
      "cell_type": "code",
      "execution_count": 47,
      "metadata": {
        "id": "nKx2InjmQfca",
        "colab": {
          "base_uri": "https://localhost:8080/"
        },
        "outputId": "1062b8b1-00b1-4703-e622-60d259d84b1a"
      },
      "outputs": [
        {
          "output_type": "stream",
          "name": "stdout",
          "text": [
            "=== Regressão Logística com class_weight='balanced' ===\n",
            "              precision    recall  f1-score   support\n",
            "\n",
            "         0.0       0.91      0.71      0.80      1552\n",
            "         1.0       0.50      0.80      0.61       561\n",
            "\n",
            "    accuracy                           0.73      2113\n",
            "   macro avg       0.70      0.75      0.71      2113\n",
            "weighted avg       0.80      0.73      0.75      2113\n",
            "\n",
            "Matriz de Confusão:\n",
            "[[1103  449]\n",
            " [ 113  448]]\n"
          ]
        }
      ],
      "source": [
        "from sklearn.linear_model import LogisticRegression\n",
        "from sklearn.metrics import classification_report, confusion_matrix\n",
        "\n",
        "# Treinamento com balanceamento de classes\n",
        "modelo_log_bal = LogisticRegression(max_iter=1000, class_weight='balanced')\n",
        "modelo_log_bal.fit(Xn_train, yn_train)\n",
        "\n",
        "# Previsão\n",
        "y_pred_log_bal = modelo_log_bal.predict(Xn_test)\n",
        "\n",
        "# Avaliação\n",
        "print(\"=== Regressão Logística com class_weight='balanced' ===\")\n",
        "print(classification_report(yn_test, y_pred_log_bal))\n",
        "print(\"Matriz de Confusão:\")\n",
        "print(confusion_matrix(yn_test, y_pred_log_bal))"
      ]
    },
    {
      "cell_type": "markdown",
      "metadata": {
        "id": "ztW0ZeLaQfca"
      },
      "source": [
        "#### 4.3.2.3 - Ajuste de Threshold com Base na Curva de Precisão-Recall"
      ]
    },
    {
      "cell_type": "markdown",
      "metadata": {
        "id": "VNG7YOjnQfcb"
      },
      "source": [
        "Por fim, foi ajustado o threshold de decisão da Regressão Logística tradicional. O objetivo foi encontrar o ponto com melhor F1-score mantendo recall ≥ 0.65. Essa abordagem visa melhorar a sensibilidade sem comprometer excessivamente a precisão."
      ]
    },
    {
      "cell_type": "code",
      "execution_count": 53,
      "metadata": {
        "id": "AEwJivxWQfcb",
        "colab": {
          "base_uri": "https://localhost:8080/"
        },
        "outputId": "5a8ce005-a114-421a-81fc-7c93f9d3a8af"
      },
      "outputs": [
        {
          "output_type": "stream",
          "name": "stdout",
          "text": [
            "=== Regressão Logística com Novo Threshold Otimizado (threshold = 0.31) ===\n",
            "              precision    recall  f1-score   support\n",
            "\n",
            "         0.0       0.90      0.76      0.83      1552\n",
            "         1.0       0.54      0.76      0.63       561\n",
            "\n",
            "    accuracy                           0.76      2113\n",
            "   macro avg       0.72      0.76      0.73      2113\n",
            "weighted avg       0.80      0.76      0.78      2113\n",
            "\n",
            "Matriz de Confusão:\n",
            "[[1186  366]\n",
            " [ 132  429]]\n"
          ]
        }
      ],
      "source": [
        "# Gerar probabilidades com o modelo de Regressão Logística\n",
        "y_probs = modelo_log.predict_proba(Xn_test)[:, 1]  # Probabilidade da classe 1 (churn)\n",
        "\n",
        "# Obter precisão, recall e thresholds da curva\n",
        "prec, rec, thresholds = precision_recall_curve(yn_test, y_probs)\n",
        "\n",
        "# Calcular F1-score para cada ponto da curva\n",
        "f1_scores = 2 * (prec * rec) / (prec + rec + 1e-6)  # evitar divisão por zero\n",
        "\n",
        "# Filtrar apenas os thresholds com recall acima de 0.65\n",
        "validos = rec >= 0.65\n",
        "\n",
        "# Selecionar o melhor threshold com base no maior F1-score entre os válidos\n",
        "if np.any(validos):\n",
        "    idx_max_f1 = np.argmax(f1_scores * validos)\n",
        "    threshold_otimizado = thresholds[idx_max_f1]\n",
        "else:\n",
        "    threshold_otimizado = 0.5  # fallback padrão\n",
        "\n",
        "# Aplicar novo threshold às probabilidades\n",
        "y_pred_threshold = (y_probs >= threshold_otimizado).astype(int)\n",
        "\n",
        "# Avaliação\n",
        "print(f\"=== Regressão Logística com Novo Threshold Otimizado (threshold = {threshold_otimizado:.2f}) ===\")\n",
        "print(classification_report(yn_test, y_pred_threshold))\n",
        "print(\"Matriz de Confusão:\")\n",
        "print(confusion_matrix(yn_test, y_pred_threshold))\n"
      ]
    },
    {
      "cell_type": "markdown",
      "metadata": {
        "id": "0VWsgjmKQfcb"
      },
      "source": [
        "## 4.3 - Comparativo Final dos Modelos"
      ]
    },
    {
      "cell_type": "markdown",
      "metadata": {
        "id": "WBb-zCjyQfcc"
      },
      "source": [
        "A seguir, são apresentados os resultados comparativos obtidos com esses aprimoramentos.\n",
        "\n",
        "| Modelo                                 | Acurácia | Precisão | Recall    | F1-Score  | FN (evadiu, mas não previsto) |\n",
        "| -------------------------------------- | -------- | -------- | --------- | --------- | ----------------------------- |\n",
        "| **Random Forest (original)**           | 0.784    | 0.617    | 0.494     | 0.549     | 284                           |\n",
        "| **Random Forest (ajustado)**           | 0.790    | 0.640    | 0.510     | 0.570     | 273                           |\n",
        "| **Regressão Logística (original)**     | 0.798    | 0.640    | 0.545     | 0.589     | 255                           |\n",
        "| **Regr. Logística com `balanced`**     | 0.730    | 0.500    | **0.800** | 0.610     | **113**                       |\n",
        "| **Regr. Logística com threshold 0.31** | 0.760    | 0.540    | 0.765     | **0.630** | 132                           |"
      ]
    },
    {
      "cell_type": "markdown",
      "metadata": {
        "id": "9v1er8psQfcc"
      },
      "source": [
        "## 4.4 - Justificativa do Modelo Final Escolhido"
      ]
    },
    {
      "cell_type": "markdown",
      "metadata": {
        "id": "L0XszJH7Qfcc"
      },
      "source": [
        "Após aplicar técnicas de refinamento, como ajuste de threshold e balanceamento de classes, o modelo que demonstrou o melhor desempenho geral foi a Regressão Logística com threshold ajustado para 0.31.\n",
        "\n",
        "Esse modelo alcançou um F1-score de 0.63, recall de 0.765 e conseguiu reduzir o número de clientes evasores não identificados para 132 — um dos melhores resultados entre todos os testes realizados.\n",
        "\n",
        "A escolha está alinhada com o objetivo principal do projeto: identificar clientes com risco de churn de forma antecipada, sem sacrificar completamente a precisão ou a acurácia global."
      ]
    },
    {
      "cell_type": "markdown",
      "metadata": {
        "id": "mnb-N5R7Qfcc"
      },
      "source": [
        "## 4.5 - Conclusões"
      ]
    },
    {
      "cell_type": "markdown",
      "metadata": {
        "id": "1Dy8KI5hQfcd"
      },
      "source": [
        "📌 Principais fatores associados ao churn\n",
        "Com base nas análises dos modelos Random Forest e Regressão Logística, os fatores mais relevantes foram:\n",
        "\n",
        "🔍 Random Forest – Variáveis com maior importância:\n",
        "Charges.Total (gastos totais)\n",
        "\n",
        "Tenure (tempo como cliente)\n",
        "\n",
        "Charges.Monthly e Charges.Daily\n",
        "\n",
        "Tipo de contrato (Contract_Two year, Contract_One year)\n",
        "\n",
        "Forma de pagamento (PaymentMethod_Electronic check)\n",
        "\n",
        "Tipo de internet (InternetService_Fiber optic)\n",
        "\n",
        "Fatura digital (PaperlessBilling_Yes)\n",
        "\n",
        "Gênero masculino (gender_Male)\n",
        "\n",
        "Essas variáveis contribuíram para reduzir a impureza nas árvores, influenciando fortemente a classificação.\n",
        "\n",
        "📈 Regressão Logística – Interpretação dos coeficientes:\n",
        "Tenure e Contract_Two year: coeficientes negativos → reduzem a chance de churn\n",
        "\n",
        "InternetService_Fiber optic, Charges.Total, PaperlessBilling_Yes, PaymentMethod_Electronic check: coeficientes positivos → aumentam a chance de churn\n",
        "\n",
        "TechSupport_Yes e PhoneService_Yes: coeficientes negativos → indicam retenção\n",
        "\n",
        "🧠 Conclusão Técnica\n",
        "Mesmo em sua versão inicial, a Regressão Logística já superava o Random Forest em recall e F1-score, mostrando maior capacidade de generalização. Após os refinamentos, ela se consolidou como o modelo mais eficaz para detectar churn com sensibilidade e estabilidade.\n",
        "\n",
        "Ambos os modelos destacaram variáveis como tenure, tipo de contrato e gastos acumulados, mas a Regressão Logística ofereceu interpretações mais claras, facilitando decisões orientadas por dados.\n",
        "\n",
        "💡 Estratégias de Retenção sugeridas\n",
        "Incentivar contratos de longo prazo com benefícios progressivos\n",
        "\n",
        "Monitorar clientes com altos gastos e oferecer suporte proativo\n",
        "\n",
        "Avaliar perfis com fatura digital e débito eletrônico (maior risco)\n",
        "\n",
        "Reforçar suporte técnico, especialmente para usuários de fibra ótica\n",
        "\n",
        "Criar campanhas de fidelização para clientes com menos de 6 meses de casa\n",
        "\n",
        "✅ Encerramento\n",
        "O projeto foi concluído com sucesso, integrando técnicas de pré-processamento, modelagem supervisionada e análise interpretativa. Os resultados obtidos oferecem à empresa uma base sólida para reduzir churn de forma estratégica e orientada por dados."
      ]
    }
  ],
  "metadata": {
    "colab": {
      "provenance": [],
      "include_colab_link": true
    },
    "kernelspec": {
      "display_name": "Python 3",
      "name": "python3"
    },
    "language_info": {
      "codemirror_mode": {
        "name": "ipython",
        "version": 3
      },
      "file_extension": ".py",
      "mimetype": "text/x-python",
      "name": "python",
      "nbconvert_exporter": "python",
      "pygments_lexer": "ipython3",
      "version": "3.13.3"
    }
  },
  "nbformat": 4,
  "nbformat_minor": 0
}